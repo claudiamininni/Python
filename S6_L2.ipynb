{
 "cells": [
  {
   "cell_type": "code",
   "execution_count": 19,
   "id": "5479afe9-de05-48b4-8a8e-4930c6c6fe24",
   "metadata": {
    "tags": []
   },
   "outputs": [
    {
     "name": "stdout",
     "output_type": "stream",
     "text": [
      "7\n"
     ]
    }
   ],
   "source": [
    "#Es 1\n",
    "mat = [[0, 1, 2, 3, 4], [5, 6, 7, 8, 9], [10, 11, 12, 13, 14]]\n",
    "elemento = mat[1][2] # restituisce in questo caso l'elemento nella seconda riga e  terza colonna\n",
    "print(elemento)\n"
   ]
  },
  {
   "cell_type": "code",
   "execution_count": 20,
   "id": "f8a6267f-68a8-4eb1-8a36-e2fb724c6097",
   "metadata": {
    "tags": []
   },
   "outputs": [
    {
     "name": "stdout",
     "output_type": "stream",
     "text": [
      "7\n"
     ]
    }
   ],
   "source": [
    "#Es 2\n",
    "import numpy as np\n",
    "\n",
    "#lista precedente\n",
    "mat = [[0, 1, 2, 3, 4], [5, 6, 7, 8, 9], [10, 11, 12, 13, 14]]\n",
    "\n",
    "# converti la lista in un array \n",
    "arr = np.array(mat)\n",
    "\n",
    "# Accedi a un particolare elemento (es. seconda riga e terza colonna)\n",
    "elemento = arr[1, 2]\n",
    "\n",
    "print(elemento)"
   ]
  },
  {
   "cell_type": "code",
   "execution_count": 23,
   "id": "47c2126d-4b17-436e-94cd-555fae7e8d8a",
   "metadata": {
    "tags": []
   },
   "outputs": [
    {
     "name": "stdout",
     "output_type": "stream",
     "text": [
      "linear_data:\n",
      "[ 0  1  2  3  4  5  6  7  8  9 10 11 12 13 14 15 16 17 18 19 20 21 22 23\n",
      " 24 25 26]\n",
      "Dimensione prima del reshape: (27,)\n",
      "\n",
      "reshaped_data:\n",
      "[[[ 0  1  2]\n",
      "  [ 3  4  5]\n",
      "  [ 6  7  8]]\n",
      "\n",
      " [[ 9 10 11]\n",
      "  [12 13 14]\n",
      "  [15 16 17]]\n",
      "\n",
      " [[18 19 20]\n",
      "  [21 22 23]\n",
      "  [24 25 26]]]\n",
      "Dimensione dopo il reshape: (3, 3, 3)\n"
     ]
    }
   ],
   "source": [
    "#Es 3\n",
    "linear_data = np.array([x for x in range(27)])\n",
    "reshaped_data = linear_data.reshape((3, 3, 3))\n",
    "\n",
    "print(\"linear_data:\")\n",
    "print(linear_data)\n",
    "print(\"Dimensione prima del reshape:\", linear_data.shape)\n",
    "\n",
    "\n",
    "print(\"\\nreshaped_data:\")\n",
    "print(reshaped_data)\n",
    "print(\"Dimensione dopo il reshape:\", reshaped_data.shape) #per chiedere la grandezza dell'array"
   ]
  },
  {
   "cell_type": "code",
   "execution_count": 38,
   "id": "27a7a0f7-e35d-45d7-b18b-be2ceed5ccd7",
   "metadata": {
    "tags": []
   },
   "outputs": [
    {
     "name": "stdout",
     "output_type": "stream",
     "text": [
      "1° rivetto: 0.000 cm\n",
      "2° rivetto: 2.054 cm\n",
      "3° rivetto: 4.107 cm\n",
      "4° rivetto: 6.161 cm\n",
      "5° rivetto: 8.214 cm\n",
      "6° rivetto: 10.268 cm\n",
      "7° rivetto: 12.321 cm\n",
      "8° rivetto: 14.375 cm\n",
      "9° rivetto: 16.429 cm\n",
      "10° rivetto: 18.482 cm\n",
      "11° rivetto: 20.536 cm\n",
      "12° rivetto: 22.589 cm\n",
      "13° rivetto: 24.643 cm\n",
      "14° rivetto: 26.696 cm\n",
      "15° rivetto: 28.750 cm\n"
     ]
    }
   ],
   "source": [
    "#Es 4\n",
    "lunghezza_struttura = np.linspace(0, 28.75, num=15)\n",
    "\n",
    "\n",
    "for i, punto in enumerate(lunghezza_struttura, start=1):\n",
    "    formatted_point = f'{round(punto, 3):.3f}'\n",
    "    print(f\"{i}° rivetto: {formatted_point} cm\")\n"
   ]
  },
  {
   "cell_type": "code",
   "execution_count": 24,
   "id": "36a8c1a8-bb37-4c14-a693-467457c511b1",
   "metadata": {
    "tags": []
   },
   "outputs": [
    {
     "name": "stdout",
     "output_type": "stream",
     "text": [
      "[[ 1  1  1  1]\n",
      " [ 5  1  1  1]\n",
      " [20 -4  0 42]]\n"
     ]
    }
   ],
   "source": [
    "# Es 5 mod 1\n",
    "arr = np.array([[1, 1, 1, 1],\n",
    "                [5, 1, 1, 1,],\n",
    "                [20, -4, 0, 42]]) \n",
    "print(matrice)\n"
   ]
  },
  {
   "cell_type": "code",
   "execution_count": 25,
   "id": "3ab6e7c0-f0af-4a85-becd-1e3ad326337a",
   "metadata": {
    "tags": []
   },
   "outputs": [
    {
     "name": "stdout",
     "output_type": "stream",
     "text": [
      "[[ 1  1  1  1]\n",
      " [ 5  1  1  1]\n",
      " [20 -4  0 42]]\n"
     ]
    }
   ],
   "source": [
    "#Es 5 mod 2\n",
    "mat = [[1, 1, 1, 1],[5, 1, 1, 1,],[20, -4, 0, 42]]\n",
    "\n",
    "# converti la lista in un array \n",
    "arr = np.array(mat)\n",
    "print (arr)\n"
   ]
  },
  {
   "cell_type": "code",
   "execution_count": 9,
   "id": "046b23f9-988e-4e3f-b79e-180d0f865aea",
   "metadata": {
    "tags": []
   },
   "outputs": [
    {
     "name": "stdout",
     "output_type": "stream",
     "text": [
      "[[0.2   0.5   0.475 0.15  0.175]\n",
      " [0.175 1.    0.025 0.4   0.225]\n",
      " [0.075 0.05  0.7   0.25  0.675]\n",
      " [0.875 0.725 0.125 0.    0.6  ]\n",
      " [0.15  0.1   0.05  0.775 0.325]]\n"
     ]
    }
   ],
   "source": [
    "#Es 6\n",
    "import numpy as np\n",
    "\n",
    "# Creazione dell'array 5x5\n",
    "arr = np.array([[10, 22, 21, 8, 9],\n",
    "                [9, 42, 3, 18, 11],\n",
    "                [5, 4, 30, 12, 29],\n",
    "                [37, 31, 7, 2, 26],\n",
    "                [8, 6, 4, 33, 15]])\n",
    "\n",
    "# Sottrazione del minimo e divisione per la differenza tra massimo e minimo\n",
    "result_arr = (arr - np.min(arr)) / (np.max(arr) - np.min(arr))\n",
    "\n",
    "# Stampa l'array risultante\n",
    "print(result_arr)\n"
   ]
  },
  {
   "cell_type": "code",
   "execution_count": null,
   "id": "2a1e7e6e-6a0d-440c-b09d-6e39d2ca01d1",
   "metadata": {},
   "outputs": [],
   "source": []
  }
 ],
 "metadata": {
  "kernelspec": {
   "display_name": "Python 3 (ipykernel)",
   "language": "python",
   "name": "python3"
  },
  "language_info": {
   "codemirror_mode": {
    "name": "ipython",
    "version": 3
   },
   "file_extension": ".py",
   "mimetype": "text/x-python",
   "name": "python",
   "nbconvert_exporter": "python",
   "pygments_lexer": "ipython3",
   "version": "3.11.5"
  }
 },
 "nbformat": 4,
 "nbformat_minor": 5
}
