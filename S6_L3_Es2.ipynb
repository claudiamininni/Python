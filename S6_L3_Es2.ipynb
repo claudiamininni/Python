{
 "cells": [
  {
   "cell_type": "code",
   "execution_count": 1,
   "id": "29d42105-8c08-48b8-a3b4-8e92323ab358",
   "metadata": {
    "tags": []
   },
   "outputs": [
    {
     "name": "stdout",
     "output_type": "stream",
     "text": [
      "Prime cinque righe del DataFrame:\n",
      "     0    1    2    3            4\n",
      "0  5.1  3.5  1.4  0.2  Iris-setosa\n",
      "1  4.9  3.0  1.4  0.2  Iris-setosa\n",
      "2  4.7  3.2  1.3  0.2  Iris-setosa\n",
      "3  4.6  3.1  1.5  0.2  Iris-setosa\n",
      "4  5.0  3.6  1.4  0.2  Iris-setosa\n",
      "\n",
      "Nomi delle colonne:\n",
      "Index(['sepal_length', 'sepal_width', 'petal_length', 'petal_width', 'class'], dtype='object')\n",
      "\n",
      "Prime cinque righe con i nomi delle colonne:\n",
      "   sepal_length  sepal_width  petal_length  petal_width        class\n",
      "0           5.1          3.5           1.4          0.2  Iris-setosa\n",
      "1           4.9          3.0           1.4          0.2  Iris-setosa\n",
      "2           4.7          3.2           1.3          0.2  Iris-setosa\n",
      "3           4.6          3.1           1.5          0.2  Iris-setosa\n",
      "4           5.0          3.6           1.4          0.2  Iris-setosa\n"
     ]
    }
   ],
   "source": [
    "import pandas as pd\n",
    "\n",
    "url = \"https://archive.ics.uci.edu/ml/machine-learning-databases/iris/iris.data\"\n",
    "#Leggiamo il file e carichiamolo in un DataFrame mediante pd.read_csv() senza utilizzare altri parametri\n",
    "iris_df = pd.read_csv(url, header=None)\n",
    "# Stampiamo le prime cinque righe \n",
    "print(\"Prime cinque righe del DataFrame:\")\n",
    "print(iris_df.head())\n",
    "\n",
    "column_names = [\"sepal_length\", \"sepal_width\", \"petal_length\", \"petal_width\", \"class\"]\n",
    "iris_df.columns = column_names\n",
    "\n",
    "print(\"\\nNomi delle colonne:\")\n",
    "print(iris_df.columns)\n",
    "\n",
    "print(\"\\nPrime cinque righe con i nomi delle colonne:\")\n",
    "print(iris_df.head())"
   ]
  },
  {
   "cell_type": "code",
   "execution_count": null,
   "id": "d2572136-2895-4898-86c8-354872a75489",
   "metadata": {},
   "outputs": [],
   "source": []
  }
 ],
 "metadata": {
  "kernelspec": {
   "display_name": "Python 3 (ipykernel)",
   "language": "python",
   "name": "python3"
  },
  "language_info": {
   "codemirror_mode": {
    "name": "ipython",
    "version": 3
   },
   "file_extension": ".py",
   "mimetype": "text/x-python",
   "name": "python",
   "nbconvert_exporter": "python",
   "pygments_lexer": "ipython3",
   "version": "3.11.5"
  }
 },
 "nbformat": 4,
 "nbformat_minor": 5
}
